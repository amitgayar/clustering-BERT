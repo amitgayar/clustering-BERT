{
 "cells": [
  {
   "cell_type": "code",
   "execution_count": 2,
   "metadata": {},
   "outputs": [],
   "source": [
    "import pickle   \n",
    "import string\n",
    "from nltk.stem import PorterStemmer\n",
    "\n",
    "from os import listdir\n",
    "from os.path import isfile, join\n",
    "mypath = '../news-analyzer/data/rafale deal/news/'\n",
    "news_text_file = [join(mypath, f) for f in listdir(mypath) if isfile(join(mypath, f))]"
   ]
  },
  {
   "cell_type": "code",
   "execution_count": 3,
   "metadata": {},
   "outputs": [],
   "source": [
    "# ---remove punctuations; code from : https://towardsdatascience.com/working-with-text-data-from-quality-to-quantity-1e9d8aa773dd\n",
    "\n",
    "ps = PorterStemmer()\n",
    "def str_clean(text):\n",
    "    punct = '():[]?.,|_^-&><;!\"/%'  \n",
    "    table = str.maketrans(punct, ' '*len(punct), \"0123456789$#'=\")\n",
    "    cleaned_comment = []\n",
    "    # re.findall(r\"[\\w']+\", text)\n",
    "    for word in text.split():\n",
    "        cleaned_comment.extend(word.translate(table).split())\n",
    "        cleaned_comment = [x.lower() for x in cleaned_comment]\n",
    "        cleaned_comment = [ps.stem(word) for word in cleaned_comment]\n",
    "    return cleaned_comment                                                                                                                                                                       \n",
    "\n",
    "# ------spacy cleaning"
   ]
  },
  {
   "cell_type": "code",
   "execution_count": 4,
   "metadata": {},
   "outputs": [],
   "source": [
    "import spacy #load spacy\n",
    "nlp = spacy.load(\"en\", disable=['parser', 'tagger', 'ner'])\n",
    "from spacy.lang.en.stop_words import STOP_WORDS as stopwords\n",
    "# stopwords = STOP_WORDS\n",
    "# stops = stopwords.words(\"english\")\n",
    "stops = sorted(stopwords)\n",
    "\n",
    "\n",
    "\n",
    "\n",
    "def normalize(comment, lowercase, remove_stopwords):\n",
    "    if lowercase:\n",
    "        comment = comment.lower()\n",
    "    comment = nlp(comment)\n",
    "    lemmatized = list()\n",
    "    punct = '( ) : [ ] ? . , | _ ^ - & > < ; \" !  / % $ @ * % #'\n",
    "    for word in comment:\n",
    "        lemma = word.lemma_.strip()\n",
    "        if lemma:\n",
    "            if not remove_stopwords or (remove_stopwords and lemma not in stops):\n",
    "            \tif lemma not in punct.split():\n",
    "            \t\tlemmatized.append(lemma)\n",
    "\n",
    "                \n",
    "    return lemmatized"
   ]
  },
  {
   "cell_type": "code",
   "execution_count": null,
   "metadata": {},
   "outputs": [],
   "source": [
    "#------------rest compution\n",
    "bow = []\n",
    "for f in news_text_file:\n",
    "    \n",
    "    text_article = pickle.load(open(f, 'rb')) \n",
    "    text_article['Text_After_Clean'] = normalize(text_article['content'], lowercase=True, remove_stopwords=True)\n",
    "    bow.append(str_clean(\" \".join(text_article['Text_After_Clean'])))\n",
    "    # print (type(text_article['Text_After_Clean']))\n",
    "    print ('article no : ',news_text_file.index(f),'\\n', sorted(text_article['Text_After_Clean']),'\\n')\n",
    "     \n",
    "print ('\\n','type of variable : ',type(bow))\n",
    "store_file = {}\n",
    "wordSet = sorted(set().union(*bow))\n",
    "print (wordSet,'\\n',len(wordSet))\n",
    "store_file['wordset'] = wordSet\n",
    "store_file['clean_text_doclist'] = bow \n",
    "\n",
    "pickle.dump(store_file,open('load_words_all_docs_spacy_second_pruning.pkl','wb'))"
   ]
  },
  {
   "cell_type": "code",
   "execution_count": null,
   "metadata": {},
   "outputs": [],
   "source": [
    "#------------rest compution\n",
    "bow = []\n",
    "for f in news_text_file:\n",
    "    \n",
    "    text_article = pickle.load(open(f, 'rb')) \n",
    "    text_article['Text_After_Clean'] = normalize(text_article['content'], lowercase=True, remove_stopwords=True)\n",
    "    bow.append(str_clean(\" \".join(text_article['Text_After_Clean'])))\n",
    "    # print (type(text_article['Text_After_Clean']))\n",
    "    ytemp = sorted(text_article['Text_After_Clean'])\n",
    "    print ('article no : ',news_text_file.index(f), ytemp,'\\n')\n",
    "     \n",
    "print ('\\n','type of variable : ',type(bow))\n",
    "store_file = {}\n",
    "wordSet = sorted(set().union(*bow))\n",
    "print (wordSet,'\\n',len(wordSet))\n",
    "store_file['wordset'] = wordSet\n",
    "store_file['clean_text_doclist'] = bow \n",
    "\n",
    "pickle.dump(store_file,open('load_words_all_docs_spacy_second_pruning.pkl','wb'))"
   ]
  },
  {
   "cell_type": "code",
   "execution_count": null,
   "metadata": {},
   "outputs": [],
   "source": []
  },
  {
   "cell_type": "code",
   "execution_count": null,
   "metadata": {},
   "outputs": [],
   "source": []
  },
  {
   "cell_type": "code",
   "execution_count": 7,
   "metadata": {},
   "outputs": [
    {
     "ename": "SyntaxError",
     "evalue": "invalid syntax (<ipython-input-7-86dbb4b7175a>, line 1)",
     "output_type": "error",
     "traceback": [
      "\u001b[0;36m  File \u001b[0;32m\"<ipython-input-7-86dbb4b7175a>\"\u001b[0;36m, line \u001b[0;32m1\u001b[0m\n\u001b[0;31m    ``\u001b[0m\n\u001b[0m    ^\u001b[0m\n\u001b[0;31mSyntaxError\u001b[0m\u001b[0;31m:\u001b[0m invalid syntax\n"
     ]
    }
   ],
   "source": []
  }
 ],
 "metadata": {
  "kernelspec": {
   "display_name": "Python 3",
   "language": "python",
   "name": "python3"
  },
  "language_info": {
   "codemirror_mode": {
    "name": "ipython",
    "version": 3
   },
   "file_extension": ".py",
   "mimetype": "text/x-python",
   "name": "python",
   "nbconvert_exporter": "python",
   "pygments_lexer": "ipython3",
   "version": "3.6.7"
  }
 },
 "nbformat": 4,
 "nbformat_minor": 2
}
