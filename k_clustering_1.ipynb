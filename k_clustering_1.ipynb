{
 "cells": [
  {
   "cell_type": "code",
   "execution_count": 5,
   "metadata": {},
   "outputs": [
    {
     "name": "stdout",
     "output_type": "stream",
     "text": [
      "[[0. 0. 0. ... 0. 0. 0.]\n",
      " [0. 0. 0. ... 0. 0. 0.]\n",
      " [0. 0. 0. ... 0. 0. 0.]\n",
      " ...\n",
      " [0. 0. 0. ... 0. 0. 0.]\n",
      " [0. 0. 0. ... 0. 0. 0.]\n",
      " [0. 0. 0. ... 0. 0. 0.]]\n",
      "[8.10902896e-05 3.25383305e-04 2.94718910e-04 ... 6.39693356e-04\n",
      " 2.09369676e-04 1.34923339e-04] [0.00196299 0.0078767  0.00713439 ... 0.00929132 0.0050683  0.00326615]\n"
     ]
    }
   ],
   "source": [
    "# -*- coding: utf-8 -*-\n",
    "\"\"\"\n",
    "Created on Wed Dec 12 15:29:25 2018\n",
    "\n",
    "@author: purandur\n",
    "\"\"\"\n",
    "\n",
    "#import libraries\n",
    "import numpy as np\n",
    "import matplotlib.pyplot as plt\n",
    "import pandas as pd\n",
    "import random as rd\n",
    "from collections import defaultdict\n",
    "import matplotlib.cm as cm\n",
    "\n",
    "dataset=pd.read_csv('tfidf_of_paras.csv')\n",
    "X = dataset.iloc[:,1:].values\n",
    "X = np.nan_to_num(X)\n",
    "# print(X)\n",
    "K=5\n",
    "m=X.shape[0]\n",
    "dim = X.shape[1]\n",
    "Centroids=np.array([]).reshape(dim,0)\n",
    "\n",
    "# print(Centroids)\n",
    "mean = np.mean(X, axis = 0)\n",
    "std = np.std(X, axis = 0)\n",
    "# print(mean,std)"
   ]
  },
  {
   "cell_type": "code",
   "execution_count": 12,
   "metadata": {},
   "outputs": [],
   "source": [
    "#step 1\n",
    "for i in range(K):\n",
    "    rand=rd.randint(0,m-1)\n",
    "    Centroids = np.c_[Centroids,X[rand]]\n",
    "    \n",
    "\n",
    "#step2\n",
    "num_iter=100\n",
    "Output=defaultdict()\n",
    "Output={}\n",
    "for n in range(num_iter):\n",
    "    #step 2.a\n",
    "    EuclidianDistance=np.array([]).reshape(m,0)\n",
    "    for k in range(K):\n",
    "        tempDist=np.sum((X-Centroids[:,k])**2,axis=1)\n",
    "        EuclidianDistance=np.c_[EuclidianDistance,tempDist]\n",
    "        \n",
    "    C=np.argmin(EuclidianDistance,axis=1)+1\n",
    "    #step 2.b\n",
    "    Y={}\n",
    "    for k in range(K):\n",
    "        Y[k+1]=np.array([]).reshape(dim,0)\n",
    "    for i in range(m):\n",
    "        Y[C[i]]=np.c_[Y[C[i]],X[i]]\n",
    "     \n",
    "    for k in range(K):\n",
    "        Y[k+1]=Y[k+1].T\n",
    "        \n",
    "        \n",
    "    for k in range(K):\n",
    "        Centroids[:,k]=np.mean(Y[k+1],axis=0)\n",
    "        \n",
    "    Output=Y\n",
    "print (C) #clusters assigned"
   ]
  },
  {
   "cell_type": "code",
   "execution_count": null,
   "metadata": {},
   "outputs": [],
   "source": []
  }
 ],
 "metadata": {
  "kernelspec": {
   "display_name": "Python 3",
   "language": "python",
   "name": "python3"
  },
  "language_info": {
   "codemirror_mode": {
    "name": "ipython",
    "version": 3
   },
   "file_extension": ".py",
   "mimetype": "text/x-python",
   "name": "python",
   "nbconvert_exporter": "python",
   "pygments_lexer": "ipython3",
   "version": "3.6.7"
  }
 },
 "nbformat": 4,
 "nbformat_minor": 2
}
