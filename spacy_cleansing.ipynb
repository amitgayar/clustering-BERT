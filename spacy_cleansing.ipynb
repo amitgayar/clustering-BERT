{
 "cells": [
  {
   "cell_type": "code",
   "execution_count": null,
   "metadata": {},
   "outputs": [],
   "source": [
    "import pickle   \n",
    "from os import listdir\n",
    "from os.path import isfile, join\n",
    "import spacy #load spacy\n",
    "nlp = spacy.load('en_core_web_sm')\n",
    "\n",
    "\n"
   ]
  },
  {
   "cell_type": "code",
   "execution_count": null,
   "metadata": {},
   "outputs": [],
   "source": [
    "def normalize(comment):\n",
    "# -----------------------spacy cleaning\n",
    "\n",
    "# Format for accessing doc tuned by 'nlp' :\n",
    "# \n",
    "# doc = nlp(u'Apple is looking at buying U.K. startup for $1 billion')\n",
    "# for token in doc:\n",
    "#     print(token.text, token.lemma_, token.pos_, token.tag_, token.dep_,\n",
    "#             token.shape_, token.is_alpha, token.is_stop)\n",
    "    comment = nlp(comment)\n",
    "    lemmatized = []\n",
    "    for token in comment:\n",
    "        if not token.is_stop and token.is_alpha:\n",
    "            lemmatized.append(token.lemma_)\n",
    "\n",
    "                \n",
    "    return lemmatized"
   ]
  },
  {
   "cell_type": "code",
   "execution_count": null,
   "metadata": {},
   "outputs": [],
   "source": [
    "#------------------------------rest compution\n",
    "\n",
    "mypath = 'news-analyzer/data/rafale deal/news/'\n",
    "news_text_file = [join(mypath, f) for f in listdir(mypath) if isfile(join(mypath, f))]                                                                                                                                                                      \n",
    "\n",
    "bow = [] #........cleaned documents in list of lists\n",
    "for f in news_text_file:\n",
    "    \n",
    "    text_article = pickle.load(open(f, 'rb')) \n",
    "    temp = normalize(text_article['content'])\n",
    "    bow.append(temp)\n",
    "    print ('article no : ',news_text_file.index(f), sorted(temp),'\\n')\n",
    "\n",
    "    \n",
    "\n",
    "wordSet = sorted(set().union(*bow))\n",
    "print (wordSet,'\\n',len(wordSet))\n",
    "\n",
    "\n",
    "\n",
    "# ------------Storing the results\n",
    "store_file = {}\n",
    "store_file['wordSet'] = wordSet\n",
    "store_file['clean_text_doclist'] = bow \n",
    "pickle.dump(store_file,open('spacy_cleansing.pkl','wb'))"
   ]
  },
  {
   "cell_type": "code",
   "execution_count": null,
   "metadata": {},
   "outputs": [],
   "source": []
  }
 ],
 "metadata": {
  "kernelspec": {
   "display_name": "Python 3",
   "language": "python",
   "name": "python3"
  },
  "language_info": {
   "codemirror_mode": {
    "name": "ipython",
    "version": 3
   },
   "file_extension": ".py",
   "mimetype": "text/x-python",
   "name": "python",
   "nbconvert_exporter": "python",
   "pygments_lexer": "ipython3",
   "version": "3.6.7"
  }
 },
 "nbformat": 4,
 "nbformat_minor": 2
}
